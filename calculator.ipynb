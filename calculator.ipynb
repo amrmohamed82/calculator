{
 "cells": [
  {
   "cell_type": "code",
   "execution_count": 19,
   "id": "ef1f9e35-52e8-45d0-b02f-3695fbcaa648",
   "metadata": {},
   "outputs": [
    {
     "name": "stdin",
     "output_type": "stream",
     "text": [
      "frist number 50\n",
      "operator + - × ÷ ^ % %\n",
      "second number 200\n"
     ]
    },
    {
     "name": "stdout",
     "output_type": "stream",
     "text": [
      "the result is 5000.0\n"
     ]
    }
   ],
   "source": [
    "x=float(input(\"frist number\"))\n",
    "xy=input(\"operator + - × ÷ ^ %\")\n",
    "y=float(input(\"second number\"))\n",
    "if xy==\"+\":\n",
    "    print(f\"the result is\", x+y)\n",
    "elif xy==\"-\":\n",
    "    print(f\"the result is\", x-y)\n",
    "elif xy==\"*\":\n",
    "    print(f\"the result is\", x*y)\n",
    "elif xy==\"/\":\n",
    "    print(f\"the result is\", x/y)\n",
    "elif xy==\"^\":\n",
    "    print(f\"the result is\", x**y)\n",
    "elif xy==\"%\":\n",
    "    print(f\"the result is\", (x%y) * 100)\n",
    "else:(f\"we are soory\")"
   ]
  },
  {
   "cell_type": "code",
   "execution_count": null,
   "id": "e3115b8b-8b62-490f-bf55-f7c183f34d46",
   "metadata": {},
   "outputs": [],
   "source": []
  }
 ],
 "metadata": {
  "kernelspec": {
   "display_name": "Python 3 (ipykernel)",
   "language": "python",
   "name": "python3"
  },
  "language_info": {
   "codemirror_mode": {
    "name": "ipython",
    "version": 3
   },
   "file_extension": ".py",
   "mimetype": "text/x-python",
   "name": "python",
   "nbconvert_exporter": "python",
   "pygments_lexer": "ipython3",
   "version": "3.11.7"
  }
 },
 "nbformat": 4,
 "nbformat_minor": 5
}
